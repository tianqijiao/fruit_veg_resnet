{
 "cells": [
  {
   "cell_type": "code",
   "execution_count": 2,
   "id": "a2a08314",
   "metadata": {
    "scrolled": true
   },
   "outputs": [
    {
     "name": "stdout",
     "output_type": "stream",
     "text": [
      ".\\raw\\*\n",
      "Totally 36 classes:['.\\\\raw\\\\apple', '.\\\\raw\\\\banana', '.\\\\raw\\\\beetroot', '.\\\\raw\\\\bell pepper', '.\\\\raw\\\\cabbage', '.\\\\raw\\\\capsicum', '.\\\\raw\\\\carrot', '.\\\\raw\\\\cauliflower', '.\\\\raw\\\\chilli pepper', '.\\\\raw\\\\corn', '.\\\\raw\\\\cucumber', '.\\\\raw\\\\eggplant', '.\\\\raw\\\\garlic', '.\\\\raw\\\\ginger', '.\\\\raw\\\\grapes', '.\\\\raw\\\\jalepeno', '.\\\\raw\\\\kiwi', '.\\\\raw\\\\lemon', '.\\\\raw\\\\lettuce', '.\\\\raw\\\\mango', '.\\\\raw\\\\onion', '.\\\\raw\\\\orange', '.\\\\raw\\\\paprika', '.\\\\raw\\\\pear', '.\\\\raw\\\\peas', '.\\\\raw\\\\pineapple', '.\\\\raw\\\\pomegranate', '.\\\\raw\\\\potato', '.\\\\raw\\\\raddish', '.\\\\raw\\\\soy beans', '.\\\\raw\\\\spinach', '.\\\\raw\\\\sweetcorn', '.\\\\raw\\\\sweetpotato', '.\\\\raw\\\\tomato', '.\\\\raw\\\\turnip', '.\\\\raw\\\\watermelon']\n"
     ]
    },
    {
     "data": {
      "application/vnd.jupyter.widget-view+json": {
       "model_id": "5b2bf00513ae4979b50d14ad2b6dd37e",
       "version_major": 2,
       "version_minor": 0
      },
      "text/plain": [
       "Raw Image Split Process:   0%|          | 0/36 [00:00<?, ?it/s]"
      ]
     },
     "metadata": {},
     "output_type": "display_data"
    },
    {
     "name": "stderr",
     "output_type": "stream",
     "text": [
      "C:\\Users\\tianq\\AppData\\Local\\Temp\\ipykernel_31552\\1878926454.py:40: DeprecationWarning: ANTIALIAS is deprecated and will be removed in Pillow 10 (2023-07-01). Use LANCZOS or Resampling.LANCZOS instead.\n",
      "  new_img = img.resize(new_size,Image.ANTIALIAS)\n",
      "C:\\Users\\tianq\\.conda\\envs\\jiao\\lib\\site-packages\\PIL\\Image.py:996: UserWarning: Palette images with Transparency expressed in bytes should be converted to RGBA images\n",
      "  warnings.warn(\n"
     ]
    },
    {
     "ename": "TypeError",
     "evalue": "glob() takes 1 positional argument but 3 were given",
     "output_type": "error",
     "traceback": [
      "\u001b[1;31m---------------------------------------------------------------------------\u001b[0m",
      "\u001b[1;31mTypeError\u001b[0m                                 Traceback (most recent call last)",
      "Cell \u001b[1;32mIn[2], line 57\u001b[0m\n\u001b[0;32m     52\u001b[0m             new_img\u001b[38;5;241m.\u001b[39msave(os\u001b[38;5;241m.\u001b[39mpath\u001b[38;5;241m.\u001b[39mjoin(\u001b[38;5;124mf\u001b[39m\u001b[38;5;124m'\u001b[39m\u001b[38;5;124mtrain\u001b[39m\u001b[38;5;130;01m\\\\\u001b[39;00m\u001b[38;5;132;01m{\u001b[39;00mpath\u001b[38;5;132;01m}\u001b[39;00m\u001b[38;5;124m'\u001b[39m,file\u001b[38;5;241m.\u001b[39msplit(\u001b[38;5;124m'\u001b[39m\u001b[38;5;130;01m\\\\\u001b[39;00m\u001b[38;5;124m'\u001b[39m)[\u001b[38;5;241m-\u001b[39m\u001b[38;5;241m1\u001b[39m]\u001b[38;5;241m.\u001b[39msplit(\u001b[38;5;124m'\u001b[39m\u001b[38;5;124m.\u001b[39m\u001b[38;5;124m'\u001b[39m)[\u001b[38;5;241m0\u001b[39m]\u001b[38;5;241m+\u001b[39m\u001b[38;5;124m'\u001b[39m\u001b[38;5;124m.jpg\u001b[39m\u001b[38;5;124m'\u001b[39m))\n\u001b[0;32m     54\u001b[0m         \u001b[38;5;66;03m#print(old_size)\u001b[39;00m\n\u001b[0;32m     55\u001b[0m         \u001b[38;5;66;03m#print(new_size)\u001b[39;00m\n\u001b[0;32m     56\u001b[0m         \u001b[38;5;66;03m#print(os.path.join(f'train\\\\{path}',file.split('\\\\')[-1].split('.')[0]+'.jpg'))\u001b[39;00m\n\u001b[1;32m---> 57\u001b[0m test_files \u001b[38;5;241m=\u001b[39m \u001b[43mglob\u001b[49m\u001b[38;5;241;43m.\u001b[39;49m\u001b[43mglob\u001b[49m\u001b[43m(\u001b[49m\u001b[38;5;124;43m'\u001b[39;49m\u001b[38;5;124;43mtest\u001b[39;49m\u001b[38;5;124;43m'\u001b[39;49m\u001b[43m,\u001b[49m\u001b[38;5;124;43m'\u001b[39;49m\u001b[38;5;124;43m*\u001b[39;49m\u001b[38;5;124;43m'\u001b[39;49m\u001b[43m,\u001b[49m\u001b[38;5;124;43m'\u001b[39;49m\u001b[38;5;124;43m*.jpg\u001b[39;49m\u001b[38;5;124;43m'\u001b[39;49m\u001b[43m)\u001b[49m    \n\u001b[0;32m     58\u001b[0m train_files \u001b[38;5;241m=\u001b[39m glob\u001b[38;5;241m.\u001b[39mglob(\u001b[38;5;124m'\u001b[39m\u001b[38;5;124mtrain\u001b[39m\u001b[38;5;124m'\u001b[39m,\u001b[38;5;124m'\u001b[39m\u001b[38;5;124m*\u001b[39m\u001b[38;5;124m'\u001b[39m,\u001b[38;5;124m'\u001b[39m\u001b[38;5;124m*.jpg\u001b[39m\u001b[38;5;124m'\u001b[39m)\n\u001b[0;32m     60\u001b[0m \u001b[38;5;28mprint\u001b[39m(\u001b[38;5;124mf\u001b[39m\u001b[38;5;124m'\u001b[39m\u001b[38;5;124mTotally \u001b[39m\u001b[38;5;132;01m{\u001b[39;00m\u001b[38;5;28mlen\u001b[39m(test_files)\u001b[38;5;132;01m}\u001b[39;00m\u001b[38;5;124m files for test\u001b[39m\u001b[38;5;124m'\u001b[39m)\n",
      "\u001b[1;31mTypeError\u001b[0m: glob() takes 1 positional argument but 3 were given"
     ]
    }
   ],
   "source": [
    "from tqdm.auto import tqdm\n",
    "import os\n",
    "import glob\n",
    "import random\n",
    "import shutil\n",
    "from PIL import Image\n",
    "import matplotlib.pyplot as plt\n",
    "''' 1.对所有图片进行RGB转化，并且统一调整到128大小，但不让图片发生变形扭曲。\n",
    "    2.划分了训练集和测试集 0.05比例\n",
    "'''\n",
    "test_split_ratio = 0.05\n",
    "desired_size = 128 #图片缩放后大小，长边缩放到128\n",
    "raw_path = '.\\\\raw'\n",
    "print(os.path.join(raw_path,'*'))\n",
    "dirs = glob.glob(os.path.join(raw_path,'*'))\n",
    "#print(dirs)\n",
    "dirs = [d for d in dirs if os.path.isdir(d)]\n",
    "print(f'Totally {len(dirs)} classes:{dirs}')\n",
    "\n",
    "for path in tqdm(dirs,desc=\"Raw Image Split Process\"):\n",
    "    #对每个类别单独处理\n",
    "    path = path.split('\\\\')[-1]\n",
    "    #创建train和test文件夹\n",
    "    os.makedirs(f'train\\\\{path}',exist_ok=True) #exists_ok=True存在路径时不报错\n",
    "    os.makedirs(f'test\\\\{path}',exist_ok=True)\n",
    "    \n",
    "    files = glob.glob(os.path.join(raw_path,path,'*.jpg'))\n",
    "    #files += glob.glob(os.path.join(raw_path,path,'*.JPG'))\n",
    "    files += glob.glob(os.path.join(raw_path,path,'*.png'))\n",
    "    \n",
    "    random.shuffle(files)\n",
    "    \n",
    "    boundary = int(len(files)*test_split_ratio) #测试机和训练集的边界下标\n",
    "    \n",
    "    for i,file in enumerate(files):\n",
    "        img = Image.open(file).convert('RGB')\n",
    "        old_size = img.size\n",
    "        ratio = float(desired_size)/max(old_size)\n",
    "        new_size = tuple([int(x*ratio) for x in old_size])\n",
    "        new_img = img.resize(new_size,Image.ANTIALIAS)\n",
    "        desired_img = Image.new(\"RGB\",(desired_size,desired_size))\n",
    "        desired_img.paste(new_img,( (desired_size-new_size[0])//2,(desired_size-new_size[1])//2 ))\n",
    "        \n",
    "        assert desired_img.mode == 'RGB'\n",
    "        \n",
    "        if i <=boundary:\n",
    "            #保存图片到测试集\n",
    "            new_img.save(os.path.join(f'test\\\\{path}',file.split('\\\\')[-1].split('.')[0]+'.jpg'))\n",
    "\n",
    "        else:\n",
    "            #保存图片到训练集\n",
    "            new_img.save(os.path.join(f'train\\\\{path}',file.split('\\\\')[-1].split('.')[0]+'.jpg'))\n",
    "           \n",
    "        #print(old_size)\n",
    "        #print(new_size)\n",
    "        #print(os.path.join(f'train\\\\{path}',file.split('\\\\')[-1].split('.')[0]+'.jpg'))\n",
    "test_files = glob.glob(os.path.join('test','*','*.jpg'))    \n",
    "train_files = glob.glob(os.path.join('train','*','*.jpg'))\n",
    "\n",
    "print(f'Totally {len(test_files)} files for test')\n",
    "print(f'Totally {len(train_files)} files for training')\n",
    "\n",
    "\n"
   ]
  }
 ],
 "metadata": {
  "kernelspec": {
   "display_name": "Python 3 (ipykernel)",
   "language": "python",
   "name": "python3"
  },
  "language_info": {
   "codemirror_mode": {
    "name": "ipython",
    "version": 3
   },
   "file_extension": ".py",
   "mimetype": "text/x-python",
   "name": "python",
   "nbconvert_exporter": "python",
   "pygments_lexer": "ipython3",
   "version": "3.10.9"
  }
 },
 "nbformat": 4,
 "nbformat_minor": 5
}
